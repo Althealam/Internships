{
 "cells": [
  {
   "cell_type": "code",
   "execution_count": null,
   "id": "5436f4bc",
   "metadata": {},
   "outputs": [],
   "source": [
    "import pandas as pd\n",
    "import numpy as np\n",
    "import matplotlib.pyplot as plt\n",
    "import seaborn as sns\n",
    "from sklearn.metrics import classification_report, confusion_matrix\n",
    "from sklearn.linear_model import LogisticRegression\n",
    "from sklearn.ensemble import RandomForestClassifier\n",
    "from sklearn.linear_model import LinearRegression\n",
    "from sklearn.ensemble import RandomForestRegressor\n",
    "from sklearn.metrics import mean_absolute_error, mean_squared_error, r2_score\n",
    "from sklearn.model_selection import train_test_split\n",
    "from sklearn.compose import ColumnTransformer\n",
    "from sklearn.preprocessing import OneHotEncoder, StandardScaler\n",
    "from sklearn.pipeline import Pipeline\n",
    "import os\n",
    "\n",
    "\n",
    "plt.style.use('seaborn-v0_8')\n",
    "sns.set(font_scale=1.1)\n",
    "pd.set_option('display.max_columns', None)\n",
    "\n",
    "df = pd.read_csv(\"../data/listings_sample.csv\")"
   ]
  },
  {
   "cell_type": "markdown",
   "id": "e2876951",
   "metadata": {},
   "source": [
    "## EDA"
   ]
  },
  {
   "cell_type": "markdown",
   "id": "4dee5c48",
   "metadata": {},
   "source": [
    "### 1. Schema & quality"
   ]
  },
  {
   "cell_type": "code",
   "execution_count": 3,
   "id": "d65fdc08",
   "metadata": {},
   "outputs": [
    {
     "name": "stdout",
     "output_type": "stream",
     "text": [
      "✅ the fundamental information for this dataset:\n",
      "<class 'pandas.core.frame.DataFrame'>\n",
      "RangeIndex: 160 entries, 0 to 159\n",
      "Data columns (total 12 columns):\n",
      " #   Column      Non-Null Count  Dtype \n",
      "---  ------      --------------  ----- \n",
      " 0   id          160 non-null    object\n",
      " 1   address     160 non-null    object\n",
      " 2   city        160 non-null    object\n",
      " 3   state       160 non-null    object\n",
      " 4   price       160 non-null    int64 \n",
      " 5   beds        160 non-null    int64 \n",
      " 6   baths       160 non-null    int64 \n",
      " 7   sqft        160 non-null    int64 \n",
      " 8   remarks     160 non-null    object\n",
      " 9   agent_id    160 non-null    object\n",
      " 10  list_date   160 non-null    object\n",
      " 11  media_urls  160 non-null    object\n",
      "dtypes: int64(4), object(8)\n",
      "memory usage: 15.1+ KB\n"
     ]
    },
    {
     "data": {
      "text/plain": [
       "None"
      ]
     },
     "metadata": {},
     "output_type": "display_data"
    },
    {
     "data": {
      "text/html": [
       "<div>\n",
       "<style scoped>\n",
       "    .dataframe tbody tr th:only-of-type {\n",
       "        vertical-align: middle;\n",
       "    }\n",
       "\n",
       "    .dataframe tbody tr th {\n",
       "        vertical-align: top;\n",
       "    }\n",
       "\n",
       "    .dataframe thead th {\n",
       "        text-align: right;\n",
       "    }\n",
       "</style>\n",
       "<table border=\"1\" class=\"dataframe\">\n",
       "  <thead>\n",
       "    <tr style=\"text-align: right;\">\n",
       "      <th></th>\n",
       "      <th>id</th>\n",
       "      <th>address</th>\n",
       "      <th>city</th>\n",
       "      <th>state</th>\n",
       "      <th>price</th>\n",
       "      <th>beds</th>\n",
       "      <th>baths</th>\n",
       "      <th>sqft</th>\n",
       "      <th>remarks</th>\n",
       "      <th>agent_id</th>\n",
       "      <th>list_date</th>\n",
       "      <th>media_urls</th>\n",
       "    </tr>\n",
       "  </thead>\n",
       "  <tbody>\n",
       "    <tr>\n",
       "      <th>0</th>\n",
       "      <td>MLS-TX-1000</td>\n",
       "      <td>960 Cedar Ct, Frisco, TX</td>\n",
       "      <td>Frisco</td>\n",
       "      <td>TX</td>\n",
       "      <td>803788</td>\n",
       "      <td>3</td>\n",
       "      <td>3</td>\n",
       "      <td>3892</td>\n",
       "      <td>quiet cul-de-sac, two-car garage, near good sc...</td>\n",
       "      <td>AG7396</td>\n",
       "      <td>2025-07-14</td>\n",
       "      <td>[\"https://picsum.photos/seed/0/1200/800\"]</td>\n",
       "    </tr>\n",
       "    <tr>\n",
       "      <th>1</th>\n",
       "      <td>MLS-CA-1001</td>\n",
       "      <td>2658 Elm Dr, Santa Clara, CA</td>\n",
       "      <td>Santa Clara</td>\n",
       "      <td>CA</td>\n",
       "      <td>1908765</td>\n",
       "      <td>3</td>\n",
       "      <td>2</td>\n",
       "      <td>3547</td>\n",
       "      <td>fresh paint, new roof 2022, large backyard, HO...</td>\n",
       "      <td>AG3612</td>\n",
       "      <td>2024-12-05</td>\n",
       "      <td>[\"https://picsum.photos/seed/1/1200/800\"]</td>\n",
       "    </tr>\n",
       "    <tr>\n",
       "      <th>2</th>\n",
       "      <td>MLS-CA-1002</td>\n",
       "      <td>7199 Birch Way, Mountain View, CA</td>\n",
       "      <td>Mountain View</td>\n",
       "      <td>CA</td>\n",
       "      <td>507705</td>\n",
       "      <td>4</td>\n",
       "      <td>3</td>\n",
       "      <td>1575</td>\n",
       "      <td>updated kitchen, stainless appliances, fresh p...</td>\n",
       "      <td>AG1995</td>\n",
       "      <td>2024-09-26</td>\n",
       "      <td>[\"https://picsum.photos/seed/2/1200/800\"]</td>\n",
       "    </tr>\n",
       "    <tr>\n",
       "      <th>3</th>\n",
       "      <td>MLS-TX-1003</td>\n",
       "      <td>7729 Walnut Blvd, Frisco, TX</td>\n",
       "      <td>Frisco</td>\n",
       "      <td>TX</td>\n",
       "      <td>1016982</td>\n",
       "      <td>4</td>\n",
       "      <td>1</td>\n",
       "      <td>3143</td>\n",
       "      <td>granite counters, new roof 2022, tile flooring...</td>\n",
       "      <td>AG6892</td>\n",
       "      <td>2025-05-04</td>\n",
       "      <td>[\"https://picsum.photos/seed/3/1200/800\"]</td>\n",
       "    </tr>\n",
       "    <tr>\n",
       "      <th>4</th>\n",
       "      <td>MLS-TX-1004</td>\n",
       "      <td>6284 Oak Ave, Frisco, TX</td>\n",
       "      <td>Frisco</td>\n",
       "      <td>TX</td>\n",
       "      <td>682810</td>\n",
       "      <td>4</td>\n",
       "      <td>1</td>\n",
       "      <td>2663</td>\n",
       "      <td>two-car garage, hardwood floors, vaulted ceili...</td>\n",
       "      <td>AG6977</td>\n",
       "      <td>2025-07-07</td>\n",
       "      <td>[\"https://picsum.photos/seed/4/1200/800\"]</td>\n",
       "    </tr>\n",
       "  </tbody>\n",
       "</table>\n",
       "</div>"
      ],
      "text/plain": [
       "            id                            address           city state  \\\n",
       "0  MLS-TX-1000           960 Cedar Ct, Frisco, TX         Frisco    TX   \n",
       "1  MLS-CA-1001       2658 Elm Dr, Santa Clara, CA    Santa Clara    CA   \n",
       "2  MLS-CA-1002  7199 Birch Way, Mountain View, CA  Mountain View    CA   \n",
       "3  MLS-TX-1003       7729 Walnut Blvd, Frisco, TX         Frisco    TX   \n",
       "4  MLS-TX-1004           6284 Oak Ave, Frisco, TX         Frisco    TX   \n",
       "\n",
       "     price  beds  baths  sqft  \\\n",
       "0   803788     3      3  3892   \n",
       "1  1908765     3      2  3547   \n",
       "2   507705     4      3  1575   \n",
       "3  1016982     4      1  3143   \n",
       "4   682810     4      1  2663   \n",
       "\n",
       "                                             remarks agent_id   list_date  \\\n",
       "0  quiet cul-de-sac, two-car garage, near good sc...   AG7396  2025-07-14   \n",
       "1  fresh paint, new roof 2022, large backyard, HO...   AG3612  2024-12-05   \n",
       "2  updated kitchen, stainless appliances, fresh p...   AG1995  2024-09-26   \n",
       "3  granite counters, new roof 2022, tile flooring...   AG6892  2025-05-04   \n",
       "4  two-car garage, hardwood floors, vaulted ceili...   AG6977  2025-07-07   \n",
       "\n",
       "                                  media_urls  \n",
       "0  [\"https://picsum.photos/seed/0/1200/800\"]  \n",
       "1  [\"https://picsum.photos/seed/1/1200/800\"]  \n",
       "2  [\"https://picsum.photos/seed/2/1200/800\"]  \n",
       "3  [\"https://picsum.photos/seed/3/1200/800\"]  \n",
       "4  [\"https://picsum.photos/seed/4/1200/800\"]  "
      ]
     },
     "metadata": {},
     "output_type": "display_data"
    },
    {
     "name": "stdout",
     "output_type": "stream",
     "text": [
      "\n",
      "✅ missing value:\n"
     ]
    },
    {
     "data": {
      "text/plain": [
       "id            0\n",
       "address       0\n",
       "city          0\n",
       "state         0\n",
       "price         0\n",
       "beds          0\n",
       "baths         0\n",
       "sqft          0\n",
       "remarks       0\n",
       "agent_id      0\n",
       "list_date     0\n",
       "media_urls    0\n",
       "dtype: int64"
      ]
     },
     "metadata": {},
     "output_type": "display_data"
    },
    {
     "name": "stdout",
     "output_type": "stream",
     "text": [
      "\n",
      "✅ the fundamental information for the numerical columns:\n"
     ]
    },
    {
     "data": {
      "text/html": [
       "<div>\n",
       "<style scoped>\n",
       "    .dataframe tbody tr th:only-of-type {\n",
       "        vertical-align: middle;\n",
       "    }\n",
       "\n",
       "    .dataframe tbody tr th {\n",
       "        vertical-align: top;\n",
       "    }\n",
       "\n",
       "    .dataframe thead th {\n",
       "        text-align: right;\n",
       "    }\n",
       "</style>\n",
       "<table border=\"1\" class=\"dataframe\">\n",
       "  <thead>\n",
       "    <tr style=\"text-align: right;\">\n",
       "      <th></th>\n",
       "      <th>count</th>\n",
       "      <th>mean</th>\n",
       "      <th>std</th>\n",
       "      <th>min</th>\n",
       "      <th>25%</th>\n",
       "      <th>50%</th>\n",
       "      <th>75%</th>\n",
       "      <th>max</th>\n",
       "    </tr>\n",
       "  </thead>\n",
       "  <tbody>\n",
       "    <tr>\n",
       "      <th>price</th>\n",
       "      <td>160.0</td>\n",
       "      <td>1.101729e+06</td>\n",
       "      <td>787928.163629</td>\n",
       "      <td>175142.0</td>\n",
       "      <td>508517.50</td>\n",
       "      <td>863020.5</td>\n",
       "      <td>1454584.25</td>\n",
       "      <td>3528809.0</td>\n",
       "    </tr>\n",
       "    <tr>\n",
       "      <th>beds</th>\n",
       "      <td>160.0</td>\n",
       "      <td>3.456250e+00</td>\n",
       "      <td>0.983172</td>\n",
       "      <td>2.0</td>\n",
       "      <td>3.00</td>\n",
       "      <td>3.0</td>\n",
       "      <td>4.00</td>\n",
       "      <td>5.0</td>\n",
       "    </tr>\n",
       "    <tr>\n",
       "      <th>baths</th>\n",
       "      <td>160.0</td>\n",
       "      <td>2.156250e+00</td>\n",
       "      <td>0.687232</td>\n",
       "      <td>1.0</td>\n",
       "      <td>2.00</td>\n",
       "      <td>2.0</td>\n",
       "      <td>3.00</td>\n",
       "      <td>3.0</td>\n",
       "    </tr>\n",
       "    <tr>\n",
       "      <th>sqft</th>\n",
       "      <td>160.0</td>\n",
       "      <td>2.380988e+03</td>\n",
       "      <td>985.057563</td>\n",
       "      <td>809.0</td>\n",
       "      <td>1479.75</td>\n",
       "      <td>2399.0</td>\n",
       "      <td>3158.25</td>\n",
       "      <td>4187.0</td>\n",
       "    </tr>\n",
       "  </tbody>\n",
       "</table>\n",
       "</div>"
      ],
      "text/plain": [
       "       count          mean            std       min        25%       50%  \\\n",
       "price  160.0  1.101729e+06  787928.163629  175142.0  508517.50  863020.5   \n",
       "beds   160.0  3.456250e+00       0.983172       2.0       3.00       3.0   \n",
       "baths  160.0  2.156250e+00       0.687232       1.0       2.00       2.0   \n",
       "sqft   160.0  2.380988e+03     985.057563     809.0    1479.75    2399.0   \n",
       "\n",
       "              75%        max  \n",
       "price  1454584.25  3528809.0  \n",
       "beds         4.00        5.0  \n",
       "baths        3.00        3.0  \n",
       "sqft      3158.25     4187.0  "
      ]
     },
     "execution_count": 3,
     "metadata": {},
     "output_type": "execute_result"
    }
   ],
   "source": [
    "print(\"✅ the fundamental information for this dataset:\")\n",
    "display(df.info())\n",
    "display(df.head())\n",
    "\n",
    "print(\"\\n✅ missing value:\")\n",
    "display(df.isnull().sum())\n",
    "\n",
    "print(\"\\n✅ the fundamental information for the numerical columns:\")\n",
    "numeric_cols = ['price', 'beds', 'baths', 'sqft']\n",
    "df[numeric_cols].describe().T"
   ]
  },
  {
   "cell_type": "markdown",
   "id": "3b2232c5",
   "metadata": {},
   "source": [
    "### 2. Univariate distributions"
   ]
  },
  {
   "cell_type": "code",
   "execution_count": 4,
   "id": "ce355235",
   "metadata": {},
   "outputs": [
    {
     "data": {
      "image/png": "[encoded data removed]",
      "text/plain": [
       "<Figure size 1200x800 with 4 Axes>"
      ]
     },
     "metadata": {},
     "output_type": "display_data"
    }
   ],
   "source": [
    "fig, axes = plt.subplots(2, 2, figsize=(12, 8))\n",
    "sns.histplot(df['price'], bins=30, ax=axes[0, 0], kde=True)\n",
    "axes[0, 0].set_title('Price Distribution')\n",
    "\n",
    "sns.histplot(df['sqft'], bins=30, ax=axes[0, 1], kde=True)\n",
    "axes[0, 1].set_title('Square Footage Distribution')\n",
    "\n",
    "sns.countplot(x='beds', data=df, ax=axes[1, 0])\n",
    "axes[1, 0].set_title('Bedroom Count')\n",
    "\n",
    "sns.countplot(x='baths', data=df, ax=axes[1, 1])\n",
    "axes[1, 1].set_title('Bathroom Count')\n",
    "\n",
    "plt.tight_layout()\n",
    "plt.show()"
   ]
  },
  {
   "cell_type": "markdown",
   "id": "df7e00cb",
   "metadata": {},
   "source": [
    "### 3. Key derived metric"
   ]
  },
  {
   "cell_type": "code",
   "execution_count": 5,
   "id": "8991f1d7",
   "metadata": {},
   "outputs": [
    {
     "data": {
      "image/png": "[encoded data removed]",
      "text/plain": [
       "<Figure size 800x550 with 1 Axes>"
      ]
     },
     "metadata": {},
     "output_type": "display_data"
    }
   ],
   "source": [
    "df['price_per_sqft'] = df['price'] / df['sqft']\n",
    "sns.histplot(df['price_per_sqft'], kde=True)\n",
    "plt.title(\"Price per Sqft Distribution\")\n",
    "plt.show()"
   ]
  },
  {
   "cell_type": "markdown",
   "id": "a5b0cb1b",
   "metadata": {},
   "source": [
    "### 4. City-wise variation"
   ]
  },
  {
   "cell_type": "code",
   "execution_count": 6,
   "id": "b1028bd1",
   "metadata": {},
   "outputs": [
    {
     "data": {
      "image/png": "[encoded data removed]",
      "text/plain": [
       "<Figure size 1000x600 with 1 Axes>"
      ]
     },
     "metadata": {},
     "output_type": "display_data"
    }
   ],
   "source": [
    "plt.figure(figsize=(10, 6))\n",
    "sns.boxplot(x='city', y='price_per_sqft', data=df)\n",
    "plt.title('Price per Sqft by City')\n",
    "plt.xticks(rotation=45)\n",
    "plt.show()\n"
   ]
  },
  {
   "cell_type": "markdown",
   "id": "d199a43b",
   "metadata": {},
   "source": [
    "### 5. Correlations"
   ]
  },
  {
   "cell_type": "code",
   "execution_count": 7,
   "id": "2f0a2653",
   "metadata": {},
   "outputs": [
    {
     "data": {
      "image/png": "[encoded data removed]",
      "text/plain": [
       "<Figure size 600x400 with 2 Axes>"
      ]
     },
     "metadata": {},
     "output_type": "display_data"
    }
   ],
   "source": [
    "corr = df[['price', 'beds', 'baths', 'sqft', 'price_per_sqft']].corr()\n",
    "plt.figure(figsize=(6, 4))\n",
    "sns.heatmap(corr, annot=True, cmap='Blues', fmt=\".2f\")\n",
    "plt.title(\"Feature Correlation\")\n",
    "plt.show()"
   ]
  },
  {
   "cell_type": "markdown",
   "id": "9430519a",
   "metadata": {},
   "source": [
    "### 6. Text signals"
   ]
  },
  {
   "cell_type": "code",
   "execution_count": 8,
   "id": "7ba65932",
   "metadata": {},
   "outputs": [
    {
     "name": "stdout",
     "output_type": "stream",
     "text": [
      "      pool: 36 listings\n",
      "    garage: 37 listings\n",
      "     quiet: 51 listings\n",
      "   updated: 32 listings\n",
      "  backyard: 43 listings\n"
     ]
    }
   ],
   "source": [
    "keywords = ['pool', 'garage', 'quiet', 'updated', 'backyard']\n",
    "for kw in keywords:\n",
    "    count = df['remarks'].str.contains(kw, case=False, na=False).sum()\n",
    "    print(f\"{kw:>10}: {count} listings\")"
   ]
  },
  {
   "cell_type": "code",
   "execution_count": 9,
   "id": "3ce168f3",
   "metadata": {},
   "outputs": [
    {
     "data": {
      "text/html": [
       "<div>\n",
       "<style scoped>\n",
       "    .dataframe tbody tr th:only-of-type {\n",
       "        vertical-align: middle;\n",
       "    }\n",
       "\n",
       "    .dataframe tbody tr th {\n",
       "        vertical-align: top;\n",
       "    }\n",
       "\n",
       "    .dataframe thead tr th {\n",
       "        text-align: left;\n",
       "    }\n",
       "\n",
       "    .dataframe thead tr:last-of-type th {\n",
       "        text-align: right;\n",
       "    }\n",
       "</style>\n",
       "<table border=\"1\" class=\"dataframe\">\n",
       "  <thead>\n",
       "    <tr>\n",
       "      <th></th>\n",
       "      <th colspan=\"3\" halign=\"left\">price</th>\n",
       "      <th colspan=\"3\" halign=\"left\">sqft</th>\n",
       "      <th colspan=\"3\" halign=\"left\">price_per_sqft</th>\n",
       "    </tr>\n",
       "    <tr>\n",
       "      <th></th>\n",
       "      <th>mean</th>\n",
       "      <th>median</th>\n",
       "      <th>count</th>\n",
       "      <th>mean</th>\n",
       "      <th>median</th>\n",
       "      <th>count</th>\n",
       "      <th>mean</th>\n",
       "      <th>median</th>\n",
       "      <th>count</th>\n",
       "    </tr>\n",
       "    <tr>\n",
       "      <th>city</th>\n",
       "      <th></th>\n",
       "      <th></th>\n",
       "      <th></th>\n",
       "      <th></th>\n",
       "      <th></th>\n",
       "      <th></th>\n",
       "      <th></th>\n",
       "      <th></th>\n",
       "      <th></th>\n",
       "    </tr>\n",
       "  </thead>\n",
       "  <tbody>\n",
       "    <tr>\n",
       "      <th>Dallas</th>\n",
       "      <td>568650.77</td>\n",
       "      <td>528357.0</td>\n",
       "      <td>22</td>\n",
       "      <td>2174.73</td>\n",
       "      <td>2307.5</td>\n",
       "      <td>22</td>\n",
       "      <td>263.99</td>\n",
       "      <td>259.73</td>\n",
       "      <td>22</td>\n",
       "    </tr>\n",
       "    <tr>\n",
       "      <th>Frisco</th>\n",
       "      <td>607010.08</td>\n",
       "      <td>583510.0</td>\n",
       "      <td>26</td>\n",
       "      <td>2341.62</td>\n",
       "      <td>2320.0</td>\n",
       "      <td>26</td>\n",
       "      <td>257.86</td>\n",
       "      <td>254.70</td>\n",
       "      <td>26</td>\n",
       "    </tr>\n",
       "    <tr>\n",
       "      <th>Mountain View</th>\n",
       "      <td>1195256.47</td>\n",
       "      <td>963112.0</td>\n",
       "      <td>17</td>\n",
       "      <td>2085.00</td>\n",
       "      <td>1820.0</td>\n",
       "      <td>17</td>\n",
       "      <td>538.85</td>\n",
       "      <td>558.44</td>\n",
       "      <td>17</td>\n",
       "    </tr>\n",
       "    <tr>\n",
       "      <th>Palo Alto</th>\n",
       "      <td>1284737.33</td>\n",
       "      <td>945974.0</td>\n",
       "      <td>18</td>\n",
       "      <td>2206.61</td>\n",
       "      <td>2004.0</td>\n",
       "      <td>18</td>\n",
       "      <td>548.29</td>\n",
       "      <td>493.01</td>\n",
       "      <td>18</td>\n",
       "    </tr>\n",
       "    <tr>\n",
       "      <th>Plano</th>\n",
       "      <td>607718.19</td>\n",
       "      <td>683476.0</td>\n",
       "      <td>21</td>\n",
       "      <td>2381.10</td>\n",
       "      <td>2424.0</td>\n",
       "      <td>21</td>\n",
       "      <td>252.86</td>\n",
       "      <td>261.61</td>\n",
       "      <td>21</td>\n",
       "    </tr>\n",
       "    <tr>\n",
       "      <th>San Jose</th>\n",
       "      <td>1609787.57</td>\n",
       "      <td>1338572.0</td>\n",
       "      <td>21</td>\n",
       "      <td>2527.33</td>\n",
       "      <td>2628.0</td>\n",
       "      <td>21</td>\n",
       "      <td>669.60</td>\n",
       "      <td>730.98</td>\n",
       "      <td>21</td>\n",
       "    </tr>\n",
       "    <tr>\n",
       "      <th>Santa Clara</th>\n",
       "      <td>1790246.28</td>\n",
       "      <td>1661489.0</td>\n",
       "      <td>18</td>\n",
       "      <td>2672.89</td>\n",
       "      <td>2966.5</td>\n",
       "      <td>18</td>\n",
       "      <td>664.95</td>\n",
       "      <td>619.60</td>\n",
       "      <td>18</td>\n",
       "    </tr>\n",
       "    <tr>\n",
       "      <th>Sunnyvale</th>\n",
       "      <td>1514550.76</td>\n",
       "      <td>1680137.0</td>\n",
       "      <td>17</td>\n",
       "      <td>2698.76</td>\n",
       "      <td>2851.0</td>\n",
       "      <td>17</td>\n",
       "      <td>556.25</td>\n",
       "      <td>505.16</td>\n",
       "      <td>17</td>\n",
       "    </tr>\n",
       "  </tbody>\n",
       "</table>\n",
       "</div>"
      ],
      "text/plain": [
       "                    price                      sqft                \\\n",
       "                     mean     median count     mean  median count   \n",
       "city                                                                \n",
       "Dallas          568650.77   528357.0    22  2174.73  2307.5    22   \n",
       "Frisco          607010.08   583510.0    26  2341.62  2320.0    26   \n",
       "Mountain View  1195256.47   963112.0    17  2085.00  1820.0    17   \n",
       "Palo Alto      1284737.33   945974.0    18  2206.61  2004.0    18   \n",
       "Plano           607718.19   683476.0    21  2381.10  2424.0    21   \n",
       "San Jose       1609787.57  1338572.0    21  2527.33  2628.0    21   \n",
       "Santa Clara    1790246.28  1661489.0    18  2672.89  2966.5    18   \n",
       "Sunnyvale      1514550.76  1680137.0    17  2698.76  2851.0    17   \n",
       "\n",
       "              price_per_sqft                \n",
       "                        mean  median count  \n",
       "city                                        \n",
       "Dallas                263.99  259.73    22  \n",
       "Frisco                257.86  254.70    26  \n",
       "Mountain View         538.85  558.44    17  \n",
       "Palo Alto             548.29  493.01    18  \n",
       "Plano                 252.86  261.61    21  \n",
       "San Jose              669.60  730.98    21  \n",
       "Santa Clara           664.95  619.60    18  \n",
       "Sunnyvale             556.25  505.16    17  "
      ]
     },
     "metadata": {},
     "output_type": "display_data"
    }
   ],
   "source": [
    "city_stats = (\n",
    "    df.groupby('city')[['price', 'sqft', 'price_per_sqft']]\n",
    "    .agg(['mean', 'median', 'count'])\n",
    "    .round(2)\n",
    ")\n",
    "display(city_stats)"
   ]
  },
  {
   "cell_type": "markdown",
   "id": "697887cd",
   "metadata": {},
   "source": [
    "### Key Conclusions\n",
    "* Data integrity: 160 records, 12 columns; no missing values. Safe to proceed to modeling/analysis.\n",
    "* Distributions (price, sqft): Both are right-skewed with long tails. Prefer median/IQR or log transforms for robust analysis.\n",
    "\n",
    "### Price per Sqft\n",
    "* Stability: price_per_sqft = price / sqft is more comparable across cities than total price, but still somewhat right-skewed.\n",
    "* Outliers: Use IQR to flag unusually high/low pps to identify luxury/repair-needed cases or potential data issues.\n",
    "\n",
    "### City differences\n",
    "* Use medians: City-level comparisons should prioritize median price_per_sqft to reflect typical market levels.\n",
    "\n",
    "### Correlation structure\n",
    "* Price vs. Sqft: Strong positive correlation—size is the primary price driver.\n",
    "* Beds/Baths: Correlated with both price and sqft, implying multicollinearity; apply feature selection or regularization.\n",
    "* pps vs. Sqft: Often negative—larger homes tend to have slightly lower unit prices.\n",
    "\n",
    "### Text signals\n",
    "* Keyword frequencies: quiet (51) ≈ backyard (43) > garage (37) ≈ pool (36) > updated (32).\n",
    "* Interpretation: “quiet” and “backyard” are common (weaker differentiation); “pool”, “garage”, “updated” may carry stronger price signals. Consider binary features and test their marginal impact on pps.\n"
   ]
  },
  {
   "cell_type": "markdown",
   "id": "c2185124",
   "metadata": {},
   "source": [
    "## Feature Engineering"
   ]
  },
  {
   "cell_type": "code",
   "execution_count": 10,
   "id": "02b8a926",
   "metadata": {},
   "outputs": [
    {
     "name": "stdout",
     "output_type": "stream",
     "text": [
      "Added keyword flags: ['has_pool', 'has_garage', 'has_quiet', 'has_updated', 'has_backyard']\n"
     ]
    }
   ],
   "source": [
    "# Feature Engineering: keyword flags from remarks\n",
    "keywords = ['pool', 'garage', 'quiet', 'updated', 'backyard']\n",
    "for kw in keywords:\n",
    "    col = f\"has_{kw}\"\n",
    "    df[col] = df['remarks'].str.contains(kw, case=False, na=False).astype(int)\n",
    "\n",
    "print(\"Added keyword flags:\", [f\"has_{k}\" for k in keywords])\n"
   ]
  },
  {
   "cell_type": "code",
   "execution_count": 11,
   "id": "f4a6f148",
   "metadata": {},
   "outputs": [
    {
     "data": {
      "text/html": [
       "<div>\n",
       "<style scoped>\n",
       "    .dataframe tbody tr th:only-of-type {\n",
       "        vertical-align: middle;\n",
       "    }\n",
       "\n",
       "    .dataframe tbody tr th {\n",
       "        vertical-align: top;\n",
       "    }\n",
       "\n",
       "    .dataframe thead th {\n",
       "        text-align: right;\n",
       "    }\n",
       "</style>\n",
       "<table border=\"1\" class=\"dataframe\">\n",
       "  <thead>\n",
       "    <tr style=\"text-align: right;\">\n",
       "      <th></th>\n",
       "      <th>sqft_per_bed</th>\n",
       "      <th>baths_per_bed</th>\n",
       "      <th>beds_per_bath</th>\n",
       "      <th>list_year</th>\n",
       "      <th>list_month</th>\n",
       "    </tr>\n",
       "  </thead>\n",
       "  <tbody>\n",
       "    <tr>\n",
       "      <th>0</th>\n",
       "      <td>1297.333333</td>\n",
       "      <td>1.000000</td>\n",
       "      <td>1.000000</td>\n",
       "      <td>2025</td>\n",
       "      <td>7</td>\n",
       "    </tr>\n",
       "    <tr>\n",
       "      <th>1</th>\n",
       "      <td>1182.333333</td>\n",
       "      <td>0.666667</td>\n",
       "      <td>1.500000</td>\n",
       "      <td>2024</td>\n",
       "      <td>12</td>\n",
       "    </tr>\n",
       "    <tr>\n",
       "      <th>2</th>\n",
       "      <td>393.750000</td>\n",
       "      <td>0.750000</td>\n",
       "      <td>1.333333</td>\n",
       "      <td>2024</td>\n",
       "      <td>9</td>\n",
       "    </tr>\n",
       "    <tr>\n",
       "      <th>3</th>\n",
       "      <td>785.750000</td>\n",
       "      <td>0.250000</td>\n",
       "      <td>4.000000</td>\n",
       "      <td>2025</td>\n",
       "      <td>5</td>\n",
       "    </tr>\n",
       "    <tr>\n",
       "      <th>4</th>\n",
       "      <td>665.750000</td>\n",
       "      <td>0.250000</td>\n",
       "      <td>4.000000</td>\n",
       "      <td>2025</td>\n",
       "      <td>7</td>\n",
       "    </tr>\n",
       "  </tbody>\n",
       "</table>\n",
       "</div>"
      ],
      "text/plain": [
       "   sqft_per_bed  baths_per_bed  beds_per_bath  list_year  list_month\n",
       "0   1297.333333       1.000000       1.000000       2025           7\n",
       "1   1182.333333       0.666667       1.500000       2024          12\n",
       "2    393.750000       0.750000       1.333333       2024           9\n",
       "3    785.750000       0.250000       4.000000       2025           5\n",
       "4    665.750000       0.250000       4.000000       2025           7"
      ]
     },
     "execution_count": 11,
     "metadata": {},
     "output_type": "execute_result"
    }
   ],
   "source": [
    "# Feature Engineering: structural ratios and date parts\n",
    "# Guard against division by zero\n",
    "safe_beds = df['beds'].replace(0, np.nan)\n",
    "safe_baths = df['baths'].replace(0, np.nan)\n",
    "\n",
    "# Structural ratios\n",
    "df['sqft_per_bed'] = (df['sqft'] / safe_beds).replace([np.inf, -np.inf], np.nan)\n",
    "df['baths_per_bed'] = (df['baths'] / safe_beds).replace([np.inf, -np.inf], np.nan)\n",
    "df['beds_per_bath'] = (df['beds'] / safe_baths).replace([np.inf, -np.inf], np.nan)\n",
    "\n",
    "# Date parts\n",
    "# Ensure list_date is parsed to datetime\n",
    "if df['list_date'].dtype == 'O':\n",
    "    df['list_date'] = pd.to_datetime(df['list_date'], errors='coerce')\n",
    "\n",
    "df['list_year'] = df['list_date'].dt.year\n",
    "df['list_month'] = df['list_date'].dt.month\n",
    "\n",
    "df[['sqft_per_bed', 'baths_per_bed', 'beds_per_bath', 'list_year', 'list_month']].head()\n"
   ]
  },
  {
   "cell_type": "code",
   "execution_count": 12,
   "id": "28423631",
   "metadata": {},
   "outputs": [
    {
     "name": "stdout",
     "output_type": "stream",
     "text": [
      "Added logs: log_price, log_sqft, log_pps\n"
     ]
    }
   ],
   "source": [
    "# Feature Engineering: log transforms\n",
    "# Add small epsilon to avoid log(0) if any\n",
    "EPS = 1e-6\n",
    "\n",
    "df['log_price'] = np.log(df['price'] + EPS)\n",
    "df['log_sqft'] = np.log(df['sqft'] + EPS)\n",
    "if 'price_per_sqft' not in df:\n",
    "    df['price_per_sqft'] = df['price'] / df['sqft']\n",
    "df['log_pps'] = np.log(df['price_per_sqft'] + EPS)\n",
    "\n",
    "print(\"Added logs: log_price, log_sqft, log_pps\")\n"
   ]
  },
  {
   "cell_type": "code",
   "execution_count": 13,
   "id": "646aaff1",
   "metadata": {},
   "outputs": [
    {
     "name": "stdout",
     "output_type": "stream",
     "text": [
      "City aggregates joined; outlier flags added.\n"
     ]
    }
   ],
   "source": [
    "# City-level aggregates and outlier flags (based on pps)\n",
    "city_agg = (\n",
    "    df.groupby('city')['price_per_sqft']\n",
    "      .agg(city_pps_median='median', city_pps_mean='mean', city_count='count')\n",
    "      .reset_index()\n",
    ")\n",
    "\n",
    "df = df.merge(city_agg, on='city', how='left')\n",
    "\n",
    "# Outliers using overall IQR on pps\n",
    "pps_q1 = df['price_per_sqft'].quantile(0.25)\n",
    "pps_q3 = df['price_per_sqft'].quantile(0.75)\n",
    "pps_iqr = pps_q3 - pps_q1\n",
    "low_thr = pps_q1 - 1.5 * pps_iqr\n",
    "high_thr = pps_q3 + 1.5 * pps_iqr\n",
    "\n",
    "df['is_pps_outlier_low'] = (df['price_per_sqft'] < low_thr).astype(int)\n",
    "df['is_pps_outlier_high'] = (df['price_per_sqft'] > high_thr).astype(int)\n",
    "\n",
    "print(\"City aggregates joined; outlier flags added.\")\n"
   ]
  },
  {
   "cell_type": "code",
   "execution_count": 14,
   "id": "8cd42235",
   "metadata": {},
   "outputs": [
    {
     "name": "stdout",
     "output_type": "stream",
     "text": [
      "Displaying first 5 rows for 21 engineered columns:\n"
     ]
    },
    {
     "data": {
      "text/html": [
       "<div>\n",
       "<style scoped>\n",
       "    .dataframe tbody tr th:only-of-type {\n",
       "        vertical-align: middle;\n",
       "    }\n",
       "\n",
       "    .dataframe tbody tr th {\n",
       "        vertical-align: top;\n",
       "    }\n",
       "\n",
       "    .dataframe thead th {\n",
       "        text-align: right;\n",
       "    }\n",
       "</style>\n",
       "<table border=\"1\" class=\"dataframe\">\n",
       "  <thead>\n",
       "    <tr style=\"text-align: right;\">\n",
       "      <th></th>\n",
       "      <th>price</th>\n",
       "      <th>sqft</th>\n",
       "      <th>price_per_sqft</th>\n",
       "      <th>log_price</th>\n",
       "      <th>log_sqft</th>\n",
       "      <th>log_pps</th>\n",
       "      <th>beds</th>\n",
       "      <th>baths</th>\n",
       "      <th>sqft_per_bed</th>\n",
       "      <th>baths_per_bed</th>\n",
       "      <th>beds_per_bath</th>\n",
       "      <th>list_year</th>\n",
       "      <th>list_month</th>\n",
       "      <th>has_pool</th>\n",
       "      <th>has_garage</th>\n",
       "      <th>has_backyard</th>\n",
       "      <th>city_pps_median</th>\n",
       "      <th>city_pps_mean</th>\n",
       "      <th>city_count</th>\n",
       "      <th>is_pps_outlier_low</th>\n",
       "      <th>is_pps_outlier_high</th>\n",
       "    </tr>\n",
       "  </thead>\n",
       "  <tbody>\n",
       "    <tr>\n",
       "      <th>0</th>\n",
       "      <td>803788</td>\n",
       "      <td>3892</td>\n",
       "      <td>206.523124</td>\n",
       "      <td>13.597091</td>\n",
       "      <td>8.266678</td>\n",
       "      <td>5.330412</td>\n",
       "      <td>3</td>\n",
       "      <td>3</td>\n",
       "      <td>1297.333333</td>\n",
       "      <td>1.000000</td>\n",
       "      <td>1.000000</td>\n",
       "      <td>2025</td>\n",
       "      <td>7</td>\n",
       "      <td>1</td>\n",
       "      <td>1</td>\n",
       "      <td>0</td>\n",
       "      <td>254.701998</td>\n",
       "      <td>257.860153</td>\n",
       "      <td>26</td>\n",
       "      <td>0</td>\n",
       "      <td>0</td>\n",
       "    </tr>\n",
       "    <tr>\n",
       "      <th>1</th>\n",
       "      <td>1908765</td>\n",
       "      <td>3547</td>\n",
       "      <td>538.135044</td>\n",
       "      <td>14.461967</td>\n",
       "      <td>8.173857</td>\n",
       "      <td>6.288110</td>\n",
       "      <td>3</td>\n",
       "      <td>2</td>\n",
       "      <td>1182.333333</td>\n",
       "      <td>0.666667</td>\n",
       "      <td>1.500000</td>\n",
       "      <td>2024</td>\n",
       "      <td>12</td>\n",
       "      <td>1</td>\n",
       "      <td>0</td>\n",
       "      <td>1</td>\n",
       "      <td>619.599589</td>\n",
       "      <td>664.954186</td>\n",
       "      <td>18</td>\n",
       "      <td>0</td>\n",
       "      <td>0</td>\n",
       "    </tr>\n",
       "    <tr>\n",
       "      <th>2</th>\n",
       "      <td>507705</td>\n",
       "      <td>1575</td>\n",
       "      <td>322.352381</td>\n",
       "      <td>13.137656</td>\n",
       "      <td>7.362011</td>\n",
       "      <td>5.775645</td>\n",
       "      <td>4</td>\n",
       "      <td>3</td>\n",
       "      <td>393.750000</td>\n",
       "      <td>0.750000</td>\n",
       "      <td>1.333333</td>\n",
       "      <td>2024</td>\n",
       "      <td>9</td>\n",
       "      <td>0</td>\n",
       "      <td>0</td>\n",
       "      <td>0</td>\n",
       "      <td>558.436014</td>\n",
       "      <td>538.854966</td>\n",
       "      <td>17</td>\n",
       "      <td>0</td>\n",
       "      <td>0</td>\n",
       "    </tr>\n",
       "    <tr>\n",
       "      <th>3</th>\n",
       "      <td>1016982</td>\n",
       "      <td>3143</td>\n",
       "      <td>323.570474</td>\n",
       "      <td>13.832350</td>\n",
       "      <td>8.052933</td>\n",
       "      <td>5.779417</td>\n",
       "      <td>4</td>\n",
       "      <td>1</td>\n",
       "      <td>785.750000</td>\n",
       "      <td>0.250000</td>\n",
       "      <td>4.000000</td>\n",
       "      <td>2025</td>\n",
       "      <td>5</td>\n",
       "      <td>0</td>\n",
       "      <td>0</td>\n",
       "      <td>0</td>\n",
       "      <td>254.701998</td>\n",
       "      <td>257.860153</td>\n",
       "      <td>26</td>\n",
       "      <td>0</td>\n",
       "      <td>0</td>\n",
       "    </tr>\n",
       "    <tr>\n",
       "      <th>4</th>\n",
       "      <td>682810</td>\n",
       "      <td>2663</td>\n",
       "      <td>256.406309</td>\n",
       "      <td>13.433972</td>\n",
       "      <td>7.887209</td>\n",
       "      <td>5.546763</td>\n",
       "      <td>4</td>\n",
       "      <td>1</td>\n",
       "      <td>665.750000</td>\n",
       "      <td>0.250000</td>\n",
       "      <td>4.000000</td>\n",
       "      <td>2025</td>\n",
       "      <td>7</td>\n",
       "      <td>0</td>\n",
       "      <td>1</td>\n",
       "      <td>0</td>\n",
       "      <td>254.701998</td>\n",
       "      <td>257.860153</td>\n",
       "      <td>26</td>\n",
       "      <td>0</td>\n",
       "      <td>0</td>\n",
       "    </tr>\n",
       "  </tbody>\n",
       "</table>\n",
       "</div>"
      ],
      "text/plain": [
       "     price  sqft  price_per_sqft  log_price  log_sqft   log_pps  beds  baths  \\\n",
       "0   803788  3892      206.523124  13.597091  8.266678  5.330412     3      3   \n",
       "1  1908765  3547      538.135044  14.461967  8.173857  6.288110     3      2   \n",
       "2   507705  1575      322.352381  13.137656  7.362011  5.775645     4      3   \n",
       "3  1016982  3143      323.570474  13.832350  8.052933  5.779417     4      1   \n",
       "4   682810  2663      256.406309  13.433972  7.887209  5.546763     4      1   \n",
       "\n",
       "   sqft_per_bed  baths_per_bed  beds_per_bath  list_year  list_month  \\\n",
       "0   1297.333333       1.000000       1.000000       2025           7   \n",
       "1   1182.333333       0.666667       1.500000       2024          12   \n",
       "2    393.750000       0.750000       1.333333       2024           9   \n",
       "3    785.750000       0.250000       4.000000       2025           5   \n",
       "4    665.750000       0.250000       4.000000       2025           7   \n",
       "\n",
       "   has_pool  has_garage  has_backyard  city_pps_median  city_pps_mean  \\\n",
       "0         1           1             0       254.701998     257.860153   \n",
       "1         1           0             1       619.599589     664.954186   \n",
       "2         0           0             0       558.436014     538.854966   \n",
       "3         0           0             0       254.701998     257.860153   \n",
       "4         0           1             0       254.701998     257.860153   \n",
       "\n",
       "   city_count  is_pps_outlier_low  is_pps_outlier_high  \n",
       "0          26                   0                    0  \n",
       "1          18                   0                    0  \n",
       "2          17                   0                    0  \n",
       "3          26                   0                    0  \n",
       "4          26                   0                    0  "
      ]
     },
     "execution_count": 14,
     "metadata": {},
     "output_type": "execute_result"
    }
   ],
   "source": [
    "# Quick summary of engineered features\n",
    "summary_cols = [\n",
    "    'price', 'sqft', 'price_per_sqft', 'log_price', 'log_sqft', 'log_pps',\n",
    "    'beds', 'baths', 'sqft_per_bed', 'baths_per_bed', 'beds_per_bath',\n",
    "    'list_year', 'list_month',\n",
    "    'has_pool', 'has_garage', 'is_quiet', 'is_updated', 'has_backyard',\n",
    "    'city_pps_median', 'city_pps_mean', 'city_count',\n",
    "    'is_pps_outlier_low', 'is_pps_outlier_high'\n",
    "]\n",
    "\n",
    "# Some keywords might be missing if remarks never contained them; fill safely\n",
    "available_cols = [c for c in summary_cols if c in df.columns]\n",
    "\n",
    "print(f\"Displaying first 5 rows for {len(available_cols)} engineered columns:\")\n",
    "df[available_cols].head()\n"
   ]
  },
  {
   "cell_type": "markdown",
   "id": "add20e2b",
   "metadata": {},
   "source": [
    "## Model Train"
   ]
  },
  {
   "cell_type": "code",
   "execution_count": 15,
   "id": "e1599821",
   "metadata": {},
   "outputs": [
    {
     "name": "stdout",
     "output_type": "stream",
     "text": [
      "Train size: (128, 12), Test size: (32, 12)\n"
     ]
    }
   ],
   "source": [
    "# Target: price_per_sqft\n",
    "model_df = df.copy()\n",
    "model_df = model_df.dropna(subset=['price_per_sqft', 'sqft', 'beds', 'baths', 'city'])\n",
    "\n",
    "numeric_features = [\n",
    "    'sqft', 'beds', 'baths', 'sqft_per_bed', 'baths_per_bed', 'beds_per_bath',\n",
    "    'log_sqft', 'city_pps_median'\n",
    "]\n",
    "keyword_features = [c for c in ['has_pool','has_garage','is_quiet','is_updated','has_backyard'] if c in model_df.columns]\n",
    "\n",
    "categorical_features = ['city']\n",
    "\n",
    "X = model_df[numeric_features + keyword_features + categorical_features]\n",
    "y = model_df['price_per_sqft']\n",
    "\n",
    "X_train, X_test, y_train, y_test = train_test_split(\n",
    "    X, y, test_size=0.2, random_state=42\n",
    ")\n",
    "\n",
    "preprocess = ColumnTransformer(\n",
    "    transformers=[\n",
    "        ('num', StandardScaler(with_mean=True, with_std=True), numeric_features + keyword_features),\n",
    "        ('cat', OneHotEncoder(handle_unknown='ignore'), categorical_features)\n",
    "    ], remainder='drop'\n",
    ")\n",
    "\n",
    "print(f\"Train size: {X_train.shape}, Test size: {X_test.shape}\")\n"
   ]
  },
  {
   "cell_type": "code",
   "execution_count": 16,
   "id": "6272a326",
   "metadata": {},
   "outputs": [
    {
     "name": "stdout",
     "output_type": "stream",
     "text": [
      "Regression results (pps):\n",
      "      LinearRegression | MAE: 111.4 | RMSE: 22746.9 | R2: 0.584\n",
      " RandomForestRegressor | MAE: 107.9 | RMSE: 21361.2 | R2: 0.610\n",
      "Best regression model: RandomForestRegressor\n"
     ]
    }
   ],
   "source": [
    "reg_models = {\n",
    "    'LinearRegression': LinearRegression(),\n",
    "    'RandomForestRegressor': RandomForestRegressor(n_estimators=300, random_state=42, n_jobs=-1)\n",
    "}\n",
    "\n",
    "reg_results = {}\n",
    "for name, mdl in reg_models.items():\n",
    "    pipe = Pipeline(steps=[('preprocess', preprocess), ('model', mdl)])\n",
    "    pipe.fit(X_train, y_train)\n",
    "    pred = pipe.predict(X_test)\n",
    "    reg_results[name] = {\n",
    "        'MAE': mean_absolute_error(y_test, pred),\n",
    "        'RMSE': mean_squared_error(y_test, pred),\n",
    "        'R2': r2_score(y_test, pred),\n",
    "        'model': pipe\n",
    "    }\n",
    "\n",
    "print(\"Regression results (pps):\")\n",
    "for k, v in reg_results.items():\n",
    "    print(f\"{k:>22} | MAE: {v['MAE']:.1f} | RMSE: {v['RMSE']:.1f} | R2: {v['R2']:.3f}\")\n",
    "\n",
    "best_reg = max(reg_results, key=lambda k: reg_results[k]['R2'])\n",
    "print(f\"Best regression model: {best_reg}\")\n"
   ]
  },
  {
   "cell_type": "code",
   "execution_count": 17,
   "id": "9c477751",
   "metadata": {},
   "outputs": [
    {
     "name": "stdout",
     "output_type": "stream",
     "text": [
      "\n",
      "LogisticRegression classification report:\n",
      "               precision    recall  f1-score   support\n",
      "\n",
      "        high      0.667     0.800     0.727        10\n",
      "         low      0.875     0.933     0.903        15\n",
      "         med      0.250     0.143     0.182         7\n",
      "\n",
      "    accuracy                          0.719        32\n",
      "   macro avg      0.597     0.625     0.604        32\n",
      "weighted avg      0.673     0.719     0.690        32\n",
      "\n",
      "Confusion matrix (rows=true, cols=pred):\n",
      " [[ 8  0  2]\n",
      " [ 0 14  1]\n",
      " [ 4  2  1]]\n"
     ]
    },
    {
     "name": "stderr",
     "output_type": "stream",
     "text": [
      "/Users/althealam/Library/Python/3.9/lib/python/site-packages/sklearn/linear_model/_linear_loss.py:203: RuntimeWarning: divide by zero encountered in matmul\n",
      "  raw_prediction = X @ weights.T + intercept  # ndarray, likely C-contiguous\n",
      "/Users/althealam/Library/Python/3.9/lib/python/site-packages/sklearn/linear_model/_linear_loss.py:203: RuntimeWarning: overflow encountered in matmul\n",
      "  raw_prediction = X @ weights.T + intercept  # ndarray, likely C-contiguous\n",
      "/Users/althealam/Library/Python/3.9/lib/python/site-packages/sklearn/linear_model/_linear_loss.py:203: RuntimeWarning: invalid value encountered in matmul\n",
      "  raw_prediction = X @ weights.T + intercept  # ndarray, likely C-contiguous\n",
      "/Users/althealam/Library/Python/3.9/lib/python/site-packages/sklearn/linear_model/_linear_loss.py:336: RuntimeWarning: divide by zero encountered in matmul\n",
      "  grad[:, :n_features] = grad_pointwise.T @ X + l2_reg_strength * weights\n",
      "/Users/althealam/Library/Python/3.9/lib/python/site-packages/sklearn/linear_model/_linear_loss.py:336: RuntimeWarning: overflow encountered in matmul\n",
      "  grad[:, :n_features] = grad_pointwise.T @ X + l2_reg_strength * weights\n",
      "/Users/althealam/Library/Python/3.9/lib/python/site-packages/sklearn/linear_model/_linear_loss.py:336: RuntimeWarning: invalid value encountered in matmul\n",
      "  grad[:, :n_features] = grad_pointwise.T @ X + l2_reg_strength * weights\n"
     ]
    },
    {
     "name": "stdout",
     "output_type": "stream",
     "text": [
      "\n",
      "RandomForestClassifier classification report:\n",
      "               precision    recall  f1-score   support\n",
      "\n",
      "        high      0.750     0.900     0.818        10\n",
      "         low      0.867     0.867     0.867        15\n",
      "         med      0.600     0.429     0.500         7\n",
      "\n",
      "    accuracy                          0.781        32\n",
      "   macro avg      0.739     0.732     0.728        32\n",
      "weighted avg      0.772     0.781     0.771        32\n",
      "\n",
      "Confusion matrix (rows=true, cols=pred):\n",
      " [[ 9  0  1]\n",
      " [ 1 13  1]\n",
      " [ 2  2  3]]\n"
     ]
    }
   ],
   "source": [
    "q_low, q_high = y_train.quantile([0.33, 0.66])\n",
    "\n",
    "def to_band(v):\n",
    "    if v <= q_low:\n",
    "        return 'low'\n",
    "    elif v <= q_high:\n",
    "        return 'med'\n",
    "    else:\n",
    "        return 'high'\n",
    "\n",
    "y_train_band = y_train.apply(to_band)\n",
    "y_test_band = y_test.apply(to_band)\n",
    "\n",
    "clf_models = {\n",
    "    'LogisticRegression': LogisticRegression(max_iter=1000),\n",
    "    'RandomForestClassifier': RandomForestClassifier(n_estimators=400, random_state=42, n_jobs=-1)\n",
    "}\n",
    "\n",
    "for name, mdl in clf_models.items():\n",
    "    pipe = Pipeline(steps=[('preprocess', preprocess), ('model', mdl)])\n",
    "    pipe.fit(X_train, y_train_band)\n",
    "    pred = pipe.predict(X_test)\n",
    "    print(f\"\\n{name} classification report:\\n\", classification_report(y_test_band, pred, digits=3))\n",
    "    print(\"Confusion matrix (rows=true, cols=pred):\\n\", confusion_matrix(y_test_band, pred))\n"
   ]
  },
  {
   "cell_type": "markdown",
   "id": "3dcecadf",
   "metadata": {},
   "source": [
    "## LLM Integration"
   ]
  },
  {
   "cell_type": "markdown",
   "id": "f4b9a5a1",
   "metadata": {},
   "source": [
    "### 1. RAG: build corpus and embeddings (TF-IDF fallback)\n"
   ]
  },
  {
   "cell_type": "code",
   "execution_count": 18,
   "id": "431a9b4c",
   "metadata": {},
   "outputs": [
    {
     "name": "stdout",
     "output_type": "stream",
     "text": [
      "TF-IDF index built for remarks. n= 160\n"
     ]
    }
   ],
   "source": [
    "from sklearn.feature_extraction.text import TfidfVectorizer\n",
    "from sklearn.neighbors import NearestNeighbors\n",
    "\n",
    "remarks = df['remarks'].fillna(\"\").tolist()\n",
    "ids = df['id'].tolist()\n",
    "\n",
    "vectorizer = TfidfVectorizer(max_features=5000, ngram_range=(1,2))\n",
    "X_tfidf = vectorizer.fit_transform(remarks)\n",
    "\n",
    "# Retriever using cosine similarity\n",
    "nn = NearestNeighbors(n_neighbors=5, metric='cosine')\n",
    "nn.fit(X_tfidf)\n",
    "\n",
    "print(\"TF-IDF index built for remarks. n=\", len(remarks))"
   ]
  },
  {
   "cell_type": "markdown",
   "id": "2c7cf081",
   "metadata": {},
   "source": [
    "### 2. RAG Q&A function with rule-based generation fallback\n"
   ]
  },
  {
   "cell_type": "code",
   "execution_count": 19,
   "id": "5877facc",
   "metadata": {},
   "outputs": [
    {
     "name": "stdout",
     "output_type": "stream",
     "text": [
      "RAG Q&A ready. Use answer_question('your query').\n"
     ]
    }
   ],
   "source": [
    "def retrieve_context(question, top_k=3):\n",
    "    q_vec = vectorizer.transform([question])\n",
    "    distances, indices = nn.kneighbors(q_vec, n_neighbors=top_k)\n",
    "    ctx = []\n",
    "    for idx in indices[0]:\n",
    "        ctx.append({\n",
    "            'id': ids[idx],\n",
    "            'remarks': remarks[idx]\n",
    "        })\n",
    "    return ctx\n",
    "\n",
    "\n",
    "def answer_question(question, top_k=3):\n",
    "    ctx = retrieve_context(question, top_k=top_k)\n",
    "    snippets = \" \\n\\n\".join([c['remarks'] for c in ctx])\n",
    "    q_lower = question.lower()\n",
    "    heuristics = []\n",
    "    if 'pool' in q_lower:\n",
    "        has = any('pool' in c['remarks'].lower() for c in ctx)\n",
    "        heuristics.append(f\"Pool mentioned: {'yes' if has else 'no'}.\")\n",
    "    if 'garage' in q_lower:\n",
    "        has = any('garage' in c['remarks'].lower() for c in ctx)\n",
    "        heuristics.append(f\"Garage mentioned: {'yes' if has else 'no'}.\")\n",
    "    \n",
    "    answer = \"Here is what I found from similar listings: \"\n",
    "    if heuristics:\n",
    "        answer += \" \".join(heuristics)\n",
    "    else:\n",
    "        # Fallback: short generic synthesis\n",
    "        answer += \"Listings emphasize features like updated interiors, quiet streets, and backyards.\"\n",
    "    return answer, ctx\n",
    "\n",
    "print(\"RAG Q&A ready. Use answer_question('your query').\")\n"
   ]
  },
  {
   "cell_type": "code",
   "execution_count": 20,
   "id": "f68d002c",
   "metadata": {},
   "outputs": [
    {
     "name": "stdout",
     "output_type": "stream",
     "text": [
      "Here is what I found from similar listings: Pool mentioned: yes.\n",
      "\n",
      "Top contexts:\n",
      "- MLS-TX-1063: large backyard, EV charger, granite counters, HOA includes pool...\n",
      "- MLS-TX-1008: HOA includes pool, corner lot, tile flooring, EV charger...\n",
      "- MLS-CA-1083: near good schools, stainless appliances, primary suite, HOA includes pool...\n"
     ]
    }
   ],
   "source": [
    "ans, ctx = answer_question(\"Do these listings typically have a pool?\", top_k=3)\n",
    "print(ans)\n",
    "print(\"\\nTop contexts:\")\n",
    "for c in ctx:\n",
    "    print(f\"- {c['id']}: {c['remarks'][:120]}...\")\n"
   ]
  },
  {
   "cell_type": "code",
   "execution_count": null,
   "id": "2732b6d1",
   "metadata": {},
   "outputs": [
    {
     "name": "stdout",
     "output_type": "stream",
     "text": [
      "Saved to results/: fig_price_dist.png, fig_sqft_dist.png, fig_pps_by_city.png, fig_corr_heatmap.png\n"
     ]
    }
   ],
   "source": [
    "# Export figures for results/one_pager.tex\n",
    "os.makedirs('../results', exist_ok=True)\n",
    "\n",
    "# Ensure target exists\n",
    "if 'price_per_sqft' not in df.columns:\n",
    "    df['price_per_sqft'] = df['price'] / df['sqft']\n",
    "\n",
    "# 1) Price distribution\n",
    "plt.figure(figsize=(6, 4))\n",
    "sns.histplot(df['price'], bins=30, kde=True)\n",
    "plt.title('Price Distribution')\n",
    "plt.tight_layout()\n",
    "plt.savefig('../results/fig_price_dist.png', dpi=200)\n",
    "plt.close()\n",
    "\n",
    "# 2) Sqft distribution\n",
    "plt.figure(figsize=(6, 4))\n",
    "sns.histplot(df['sqft'], bins=30, kde=True)\n",
    "plt.title('Sqft Distribution')\n",
    "plt.tight_layout()\n",
    "plt.savefig('../results/fig_sqft_dist.png', dpi=200)\n",
    "plt.close()\n",
    "\n",
    "# 3) Price per sqft by city (boxplot)\n",
    "plt.figure(figsize=(8, 5))\n",
    "sns.boxplot(x='city', y='price_per_sqft', data=df)\n",
    "plt.title('Price per Sqft by City')\n",
    "plt.xticks(rotation=45)\n",
    "plt.tight_layout()\n",
    "plt.savefig('../results/fig_pps_by_city.png', dpi=200)\n",
    "plt.close()\n",
    "\n",
    "# 4) Correlation heatmap\n",
    "corr = df[['price', 'beds', 'baths', 'sqft', 'price_per_sqft']].corr()\n",
    "plt.figure(figsize=(5, 4))\n",
    "sns.heatmap(corr, annot=True, cmap='Blues', fmt='.2f')\n",
    "plt.title('Feature Correlation')\n",
    "plt.tight_layout()\n",
    "plt.savefig('../results/fig_corr_heatmap.png', dpi=200)\n",
    "plt.close()\n",
    "\n",
    "print('Saved to results/: fig_price_dist.png, fig_sqft_dist.png, fig_pps_by_city.png, fig_corr_heatmap.png')\n"
   ]
  }
 ],
 "metadata": {
  "kernelspec": {
   "display_name": "Python 3",
   "language": "python",
   "name": "python3"
  },
  "language_info": {
   "codemirror_mode": {
    "name": "ipython",
    "version": 3
   },
   "file_extension": ".py",
   "mimetype": "text/x-python",
   "name": "python",
   "nbconvert_exporter": "python",
   "pygments_lexer": "ipython3",
   "version": "3.9.6"
  }
 },
 "nbformat": 4,
 "nbformat_minor": 5
}
